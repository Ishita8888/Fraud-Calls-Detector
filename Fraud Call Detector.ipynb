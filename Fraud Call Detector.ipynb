{
 "cells": [
  {
   "cell_type": "code",
   "execution_count": 1,
   "id": "43c82741",
   "metadata": {},
   "outputs": [
    {
     "name": "stdout",
     "output_type": "stream",
     "text": [
      "Model has been trained.\n"
     ]
    }
   ],
   "source": [
    "import speech_recognition as sr\n",
    "import re\n",
    "import numpy as np\n",
    "import pandas as pd\n",
    "from nltk.stem import WordNetLemmatizer\n",
    "from nltk.corpus import stopwords\n",
    "from sklearn.feature_extraction.text import TfidfVectorizer\n",
    "from sklearn.metrics import recall_score, classification_report, confusion_matrix, accuracy_score\n",
    "from sklearn.naive_bayes import MultinomialNB\n",
    "\n",
    "# Function to remove digits and lemmatize the text\n",
    "def remove_digit(data):\n",
    "    corpos = []\n",
    "    for i in range(0, len(data)):\n",
    "        review = re.sub('[^a-zA-Z]', ' ', data['content'][i])\n",
    "        review = review.lower()\n",
    "        review = review.split()\n",
    "        ps = WordNetLemmatizer()\n",
    "        review = [ps.lemmatize(word) for word in review if word not in stopwords.words('english')]\n",
    "        review = ' '.join(review)\n",
    "        corpos.append(review)\n",
    "    return corpos\n",
    "\n",
    "# Function to train the model and return the trained model\n",
    "def detect_model(corpos, data):\n",
    "    cv = TfidfVectorizer(max_features=2000)\n",
    "    x = cv.fit_transform(corpos).toarray()\n",
    "    y = pd.get_dummies(data['label'])\n",
    "    y = y.iloc[:, 1].values\n",
    "    fraud_detect = MultinomialNB().fit(x, y)\n",
    "    print(\"Model has been trained.\")\n",
    "    return fraud_detect\n",
    "\n",
    "# Load the trained model\n",
    "data = pd.read_csv(\"fraud_call.file\", sep='\\t', names=['label', 'content'])\n",
    "proper_list = remove_digit(data)\n",
    "cv = TfidfVectorizer(max_features=2000)\n",
    "x = cv.fit_transform(proper_list).toarray()\n",
    "y = pd.get_dummies(data['label'])\n",
    "y = y.iloc[:, 1].values\n",
    "model = MultinomialNB().fit(x, y)\n",
    "print(\"Model has been trained.\")\n",
    "\n",
    "# Define a function to preprocess a given message\n",
    "def preprocess_message(message):\n",
    "    review = re.sub('[^a-zA-Z]', ' ', message)\n",
    "    review = review.lower()\n",
    "    review = review.split()\n",
    "    ps = WordNetLemmatizer()\n",
    "    review = [ps.lemmatize(word) for word in review if word not in stopwords.words('english')]\n",
    "    review = ' '.join(review)\n",
    "    return review\n",
    "\n"
   ]
  },
  {
   "cell_type": "code",
   "execution_count": 3,
   "id": "a204be0f",
   "metadata": {},
   "outputs": [
    {
     "name": "stdout",
     "output_type": "stream",
     "text": [
      "Listening...\n",
      "You said:  you have won a cash prize of 1 CR please forward the OTP on your mobile\n",
      "Fraud call detected!\n"
     ]
    }
   ],
   "source": [
    "# Initialize the speech recognizer\n",
    "r = sr.Recognizer()\n",
    "\n",
    "# Start the microphone and listen for input\n",
    "with sr.Microphone() as source:\n",
    "    print(\"Listening...\")\n",
    "    r.adjust_for_ambient_noise(source)\n",
    "    audio = r.listen(source)\n",
    "\n",
    "# Use the speech recognizer to transcribe the audio input to text\n",
    "try:\n",
    "    text = r.recognize_google(audio)\n",
    "    print(\"You said: \", text)\n",
    "    \n",
    "    # Preprocess the transcribed text and pass it to the ML model for prediction\n",
    "    processed_text = preprocess_message(text)\n",
    "    vectorized_text = cv.transform([processed_text]).toarray()\n",
    "    prediction = model.predict(vectorized_text)\n",
    "    \n",
    "    # Print the predicted label\n",
    "    if prediction == 1:\n",
    "        print(\"Genuiene call detected.\")\n",
    "    else:\n",
    "        print(\"Fraud call detected!\")\n",
    "        \n",
    "except sr.UnknownValueError:\n",
    "    print(\"Could not understand audio input.\")\n",
    "except sr.RequestError as e:\n",
    "    print(\"Could not request results from Google Speech Recognition service; {0}\".format(e))\n"
   ]
  },
  {
   "cell_type": "code",
   "execution_count": null,
   "id": "94fc5dad",
   "metadata": {},
   "outputs": [],
   "source": []
  }
 ],
 "metadata": {
  "kernelspec": {
   "display_name": "Python 3 (ipykernel)",
   "language": "python",
   "name": "python3"
  },
  "language_info": {
   "codemirror_mode": {
    "name": "ipython",
    "version": 3
   },
   "file_extension": ".py",
   "mimetype": "text/x-python",
   "name": "python",
   "nbconvert_exporter": "python",
   "pygments_lexer": "ipython3",
   "version": "3.10.8"
  }
 },
 "nbformat": 4,
 "nbformat_minor": 5
}
